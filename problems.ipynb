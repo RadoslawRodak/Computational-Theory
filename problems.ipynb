{
 "cells": [
  {
   "cell_type": "markdown",
   "id": "d551c23d",
   "metadata": {},
   "source": [
    "# Computational Theory Problems"
   ]
  },
  {
   "cell_type": "markdown",
   "id": "26b60937",
   "metadata": {},
   "source": [
    "## Problem 1: Binary Words and Operations"
   ]
  },
  {
   "cell_type": "code",
   "execution_count": 24,
   "id": "2efd944e",
   "metadata": {},
   "outputs": [],
   "source": [
    "import numpy as np\n",
    "\n",
    "# Configure numpy to work with 32-bit unsigned integers\n",
    "UINT32 = np.uint32\n",
    "\n",
    "def Parity(x, y, z):\n",
    "    \"\"\"\n",
    "    Parity function: (x ⊕ y ⊕ z)\n",
    "    \n",
    "    Reference: SHS Standard (FIPS PUB 180-4), Section 4.1.1 (page 10)\n",
    "    This section defines how Parity is used in the SHA-1 algorithm.\n",
    "    The Parity function is specified as x XOR y XOR z.\n",
    "    Used in: SHA-1 algorithm (rounds 20-39 and 60-79)\n",
    "    \n",
    "    Computes the bitwise XOR on each bit of three 32-bit words.\n",
    "    Examples: returns 1 if an odd number of inputs are 1, else returns 0.\n",
    "    x == 1 y == 1 z == 0 result == 0\n",
    "    x == 1 y == 0 z == 1 result == 0\n",
    "    x == 0 y == 1 z == 1 result == 0 \n",
    "    x == 1 y == 1 z == 1 result == 1\n",
    "\n",
    "    Parity = 0b0001 = 0b1\n",
    "    \n",
    "    Args:\n",
    "        x, y, z: 32-bit words\n",
    "    \n",
    "    Returns:\n",
    "        32-bit result of x XOR y XOR z\n",
    "    \n",
    "    \"\"\"\n",
    "    x, y, z = UINT32(x), UINT32(y), UINT32(z)\n",
    "    return UINT32(x ^ y ^ z)"
   ]
  },
  {
   "cell_type": "code",
   "execution_count": 25,
   "id": "b7ee30bb",
   "metadata": {},
   "outputs": [
    {
     "name": "stdout",
     "output_type": "stream",
     "text": [
      "x: 0b1101\n",
      "y: 0b1011\n",
      "z: 0b111\n",
      "Parity: 0b1\n"
     ]
    }
   ],
   "source": [
    "# Example test for the Parity function\n",
    "x, y, z = UINT32(0b1101), UINT32(0b1011), UINT32(0b0111)\n",
    "\n",
    "print(\"x:\", bin(int(x)))\n",
    "print(\"y:\", bin(int(y)))\n",
    "print(\"z:\", bin(int(z)))\n",
    "print(\"Parity:\", bin(int(Parity(x, y, z)))) # Expected output: 0b1 (result of x XOR y XOR z)\n"
   ]
  },
  {
   "cell_type": "code",
   "execution_count": 26,
   "id": "a360c094",
   "metadata": {},
   "outputs": [],
   "source": [
    "def Ch(x, y, z):\n",
    "    \"\"\"\n",
    "    Choose function: (x ∧ y) ⊕ (¬x ∧ z)\n",
    "    \n",
    "    Reference: SHS Standard, Section 4.1.2 (page 10)\n",
    "    This section defines how the Choose function is used in the SHA-256 algorithm.\n",
    "    The Choose function selects bits from y and z based on the bits of x.\n",
    "    Used in: SHA-256 compression function\n",
    "    \n",
    "    For each bit position:\n",
    "    - If x bit is 1, choose the corresponding bit from y\n",
    "    - If x bit is 0, choose the corresponding bit from z\n",
    "    \n",
    "    Args:\n",
    "        x, y, z: 32-bit words\n",
    "    \n",
    "    Returns:\n",
    "        32-bit result where x \"chooses\" between y and z\n",
    "    \n",
    "    Example:\n",
    "        x = 1100 (chooses y for first 2 bits, z for last 2 bits)\n",
    "        y = 1010\n",
    "        z = 0111\n",
    "        --------\n",
    "        Result = 1011 (takes 10 from y, 11 from z)\n",
    "    \"\"\"\n",
    "    x, y, z = UINT32(x), UINT32(y), UINT32(z)\n",
    "    return UINT32((x & y) ^ (~x & z))"
   ]
  },
  {
   "cell_type": "code",
   "execution_count": 27,
   "id": "30066cf8",
   "metadata": {},
   "outputs": [
    {
     "name": "stdout",
     "output_type": "stream",
     "text": [
      "\n",
      "x: 0b1100\n",
      "y: 0b1010\n",
      "z: 0b111\n",
      "Ch: 0b1011\n"
     ]
    }
   ],
   "source": [
    "# Example test for the Ch function\n",
    "x, y, z = UINT32(0b1100), UINT32(0b1010), UINT32(0b0111)\n",
    "\n",
    "print(\"\\nx:\", bin(int(x)))\n",
    "print(\"y:\", bin(int(y)))\n",
    "print(\"z:\", bin(int(z)))\n",
    "print(\"Ch:\", bin(int(Ch(x, y, z)))) # Expected output: 0b1011"
   ]
  },
  {
   "cell_type": "code",
   "execution_count": 28,
   "id": "ddc6d7b2",
   "metadata": {},
   "outputs": [],
   "source": [
    "def Maj(x, y, z):\n",
    "    \"\"\"\n",
    "    Majority function: (x ∧ y) ⊕ (x ∧ z) ⊕ (y ∧ z)\n",
    "    \n",
    "    Reference: SHS Standard, Section 4.1.2 (page 10)\n",
    "    This section defines how the Majority function is used in the SHA-256 algorithm.\n",
    "    The Majority function returns the majority bit for each bit position among x, y, and z\n",
    "    Used in: SHA-256 compression function\n",
    "    \n",
    "    For each bit position:\n",
    "    - Returns 1 if at least 2 of the 3 bits are 1\n",
    "    - Returns 0 if at least 2 of the 3 bits are 0\n",
    "    \n",
    "    Args:\n",
    "        x, y, z: 32-bit words\n",
    "    \n",
    "    Returns:\n",
    "        32-bit result representing the majority vote of each bit position\n",
    "    \n",
    "    Example:\n",
    "        x = 1100\n",
    "        y = 1010\n",
    "        z = 1001\n",
    "        --------\n",
    "        Bit 0: 1,1,1 → majority is 1\n",
    "        Bit 1: 1,0,0 → majority is 0\n",
    "        Bit 2: 0,1,0 → majority is 0\n",
    "        Bit 3: 0,0,1 → majority is 0\n",
    "        Result = 1000\n",
    "    \"\"\"\n",
    "    x, y, z = UINT32(x), UINT32(y), UINT32(z)\n",
    "    return UINT32((x & y) ^ (x & z) ^ (y & z))"
   ]
  },
  {
   "cell_type": "code",
   "execution_count": 29,
   "id": "c5b0345c",
   "metadata": {},
   "outputs": [
    {
     "name": "stdout",
     "output_type": "stream",
     "text": [
      "\n",
      "x: 0b1100\n",
      "y: 0b1010\n",
      "z: 0b1001\n",
      "Maj: 0b1000\n"
     ]
    }
   ],
   "source": [
    "x, y, z = UINT32(0b1100), UINT32(0b1010), UINT32(0b1001)\n",
    "\n",
    "print(\"\\nx:\", bin(int(x)))\n",
    "print(\"y:\", bin(int(y)))\n",
    "print(\"z:\", bin(int(z)))\n",
    "print(\"Maj:\", bin(int(Maj(x, y, z)))) # Expected output: 0b1000"
   ]
  },
  {
   "cell_type": "code",
   "execution_count": 30,
   "id": "e7dcd8c3",
   "metadata": {},
   "outputs": [],
   "source": [
    "def ROTR(x, n, w=32):\n",
    "    \"\"\"\n",
    "    Rotate right (circular right shift) operation.\n",
    "    \n",
    "    Reference: SHS Standard, Section 2.2.2 (page 5)\n",
    "    This section defines the ROTR operation used in SHA algorithms.\n",
    "    ROTR is used in various SHA functions to achieve bit diffusion.\n",
    "    \n",
    "    Args:\n",
    "        x: w-bit word (uint32)\n",
    "        n: number of positions to rotate (0 <= n < w)\n",
    "        w: word size in bits (default: 32)\n",
    "    \n",
    "    Returns:\n",
    "        Result of rotating x right by n positions\n",
    "    \"\"\"\n",
    "    x = UINT32(x)\n",
    "    n = int(n) % w\n",
    "    return UINT32((x >> n) | (x << (w - n)))"
   ]
  },
  {
   "cell_type": "code",
   "execution_count": 31,
   "id": "637fedae",
   "metadata": {},
   "outputs": [],
   "source": [
    "def Sigma0(x):\n",
    "    \"\"\"\n",
    "    Σ₀²⁵⁶(x) = ROTR²(x) ⊕ ROTR¹³(x) ⊕ ROTR²²(x)\n",
    "    \n",
    "    Reference: SHS Standard, Section 4.1.2 (page 10)\n",
    "    Definition: Upper case Sigma 0 for SHA-256\n",
    "    Used in: SHA-256 compression function (transforms working variable 'a')\n",
    "    \n",
    "    Takes the input x and:\n",
    "    1. Rotates it right by 2 positions\n",
    "    2. Rotates it right by 13 positions\n",
    "    3. Rotates it right by 22 positions\n",
    "    4. XORs all three results together\n",
    "    \n",
    "    Args:\n",
    "        x: 32-bit word\n",
    "    \n",
    "    Returns:\n",
    "        32-bit result of the Σ₀ transformation\n",
    "    \n",
    "    Example:\n",
    "        If x = 0xABCD1234\n",
    "        - ROTR²(x) = rotate right 2\n",
    "        - ROTR¹³(x) = rotate right 13\n",
    "        - ROTR²²(x) = rotate right 22\n",
    "        - Result = all three XORed together\n",
    "    \"\"\"\n",
    "    x = UINT32(x)\n",
    "    return UINT32(ROTR(x, 2) ^ ROTR(x, 13) ^ ROTR(x, 22))"
   ]
  },
  {
   "cell_type": "code",
   "execution_count": 32,
   "id": "2e37f255",
   "metadata": {},
   "outputs": [
    {
     "name": "stdout",
     "output_type": "stream",
     "text": [
      "\n",
      "x: 0xabcd1234\n",
      "ROTR²(x): 0x2af3448d\n",
      "ROTR¹³(x): 0x91a55e68\n",
      "ROTR²²(x): 0x3448d2af\n",
      "Sigma0: 0x8f1ec84a\n"
     ]
    }
   ],
   "source": [
    "x = UINT32(0xABCD1234)\n",
    "\n",
    "print(\"\\nx:\", hex(int(x)))\n",
    "print(\"ROTR²(x):\", hex(int(ROTR(x, 2))))\n",
    "print(\"ROTR¹³(x):\", hex(int(ROTR(x, 13))))\n",
    "print(\"ROTR²²(x):\", hex(int(ROTR(x, 22))))\n",
    "print(\"Sigma0:\", hex(int(Sigma0(x)))) # Expected output: 0x8f1ec84a"
   ]
  },
  {
   "cell_type": "code",
   "execution_count": null,
   "id": "e48146ba",
   "metadata": {},
   "outputs": [],
   "source": [
    "def Sigma1(x):\n",
    "    \"\"\"\n",
    "    Σ₁²⁵⁶(x) = ROTR⁶(x) ⊕ ROTR¹¹(x) ⊕ ROTR²⁵(x)\n",
    "    \n",
    "    Reference: SHS Standard, Section 4.1.2 (page 10)\n",
    "    Definition: Upper case Sigma 1 for SHA-256\n",
    "    Used in: SHA-256 compression function (transforms working variable 'e')\n",
    "    \n",
    "    \n",
    "    \n",
    "    \n",
    "    Takes the input x and:\n",
    "    1. Rotates it right by 6 positions\n",
    "    2. Rotates it right by 11 positions\n",
    "    3. Rotates it right by 25 positions\n",
    "    4. XORs all three results together\n",
    "    \n",
    "    Args:\n",
    "        x: 32-bit word\n",
    "    \n",
    "    Returns:\n",
    "        32-bit result of the Σ₁ transformation\n",
    "    \n",
    "    Example:\n",
    "        If x = 0x9A8B7C6D\n",
    "        - ROTR⁶(x) = rotate right 6\n",
    "        - ROTR¹¹(x) = rotate right 11\n",
    "        - ROTR²⁵(x) = rotate right 25\n",
    "        - Result = all three XORed together\n",
    "    \"\"\"\n",
    "    x = UINT32(x)\n",
    "    return UINT32(ROTR(x, 6) ^ ROTR(x, 11) ^ ROTR(x, 25))"
   ]
  },
  {
   "cell_type": "code",
   "execution_count": null,
   "id": "2f99e656",
   "metadata": {},
   "outputs": [
    {
     "name": "stdout",
     "output_type": "stream",
     "text": [
      "\n",
      "x: 0x9a8b7c6d\n",
      "ROTR⁶(x): 0xb66a2df1\n",
      "ROTR¹¹(x): 0x8db3516f\n",
      "ROTR²⁵(x): 0x45be36cd\n",
      "Sigma1: 0x7e674a53\n"
     ]
    }
   ],
   "source": [
    "# Example test for the Sigma1 function\n",
    "x = UINT32(0x9A8B7C6D)\n",
    "\n",
    "print(\"\\nx:\", hex(int(x)))\n",
    "print(\"ROTR⁶(x):\", hex(int(ROTR(x, 6))))\n",
    "print(\"ROTR¹¹(x):\", hex(int(ROTR(x, 11))))\n",
    "print(\"ROTR²⁵(x):\", hex(int(ROTR(x, 25))))\n",
    "print(\"Sigma1:\", hex(int(Sigma1(x)))) # Expected output: 0x7e674a53"
   ]
  },
  {
   "cell_type": "markdown",
   "id": "0061f67b",
   "metadata": {},
   "source": [
    "## Problem 2: Fractional Parts of Cube Roots"
   ]
  },
  {
   "cell_type": "code",
   "execution_count": null,
   "id": "a1e032fc",
   "metadata": {},
   "outputs": [],
   "source": []
  },
  {
   "cell_type": "markdown",
   "id": "60a0b19d",
   "metadata": {},
   "source": [
    "## Problem 3: Padding"
   ]
  },
  {
   "cell_type": "code",
   "execution_count": null,
   "id": "cf33f886",
   "metadata": {},
   "outputs": [],
   "source": []
  },
  {
   "cell_type": "markdown",
   "id": "fb4661ba",
   "metadata": {},
   "source": [
    "## Problem 4: Hashes"
   ]
  },
  {
   "cell_type": "code",
   "execution_count": null,
   "id": "7f6564e3",
   "metadata": {},
   "outputs": [],
   "source": []
  },
  {
   "cell_type": "markdown",
   "id": "6c806498",
   "metadata": {},
   "source": [
    "## Problem 5: Passwords"
   ]
  },
  {
   "cell_type": "code",
   "execution_count": null,
   "id": "06ba4ee0",
   "metadata": {},
   "outputs": [],
   "source": []
  }
 ],
 "metadata": {
  "kernelspec": {
   "display_name": "Python 3",
   "language": "python",
   "name": "python3"
  },
  "language_info": {
   "codemirror_mode": {
    "name": "ipython",
    "version": 3
   },
   "file_extension": ".py",
   "mimetype": "text/x-python",
   "name": "python",
   "nbconvert_exporter": "python",
   "pygments_lexer": "ipython3",
   "version": "3.12.1"
  }
 },
 "nbformat": 4,
 "nbformat_minor": 5
}
