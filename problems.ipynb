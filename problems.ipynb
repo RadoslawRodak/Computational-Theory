{
 "cells": [
  {
   "cell_type": "markdown",
   "id": "d551c23d",
   "metadata": {},
   "source": [
    "# Computational Theory Problems"
   ]
  },
  {
   "cell_type": "markdown",
   "id": "26b60937",
   "metadata": {},
   "source": [
    "## Problem 1: Binary Words and Operations"
   ]
  },
  {
   "cell_type": "code",
   "execution_count": 1,
   "id": "2efd944e",
   "metadata": {},
   "outputs": [],
   "source": [
    "import numpy as np\n",
    "\n",
    "# Configure numpy to work with 32-bit unsigned integers\n",
    "UINT32 = np.uint32\n",
    "\n",
    "def Parity(x, y, z):\n",
    "    \"\"\"\n",
    "    Parity function: (x ⊕ y ⊕ z)\n",
    "    \n",
    "    Reference: SHS Standard (FIPS PUB 180-4), Section 4.1.1 (page 10)\n",
    "    This section defines how Parity is used in the SHA-1 algorithm.\n",
    "    The Parity function is specified as x XOR y XOR z.\n",
    "    Used in: SHA-1 algorithm (rounds 20-39 and 60-79)\n",
    "    \n",
    "    Computes the bitwise XOR on each bit of three 32-bit words.\n",
    "    Examples: returns 1 if an odd number of inputs are 1, else returns 0.\n",
    "    x == 1 y == 1 z == 0 result == 0\n",
    "    x == 1 y == 0 z == 1 result == 0\n",
    "    x == 0 y == 1 z == 1 result == 0 \n",
    "    x == 1 y == 1 z == 1 result == 1\n",
    "\n",
    "    Parity = 0b0001 = 0b1\n",
    "    \n",
    "    Args:\n",
    "        x, y, z: 32-bit words\n",
    "    \n",
    "    Returns:\n",
    "        32-bit result of x XOR y XOR z\n",
    "    \n",
    "    \"\"\"\n",
    "    x, y, z = UINT32(x), UINT32(y), UINT32(z)\n",
    "    return UINT32(x ^ y ^ z)"
   ]
  },
  {
   "cell_type": "code",
   "execution_count": 2,
   "id": "b7ee30bb",
   "metadata": {},
   "outputs": [
    {
     "name": "stdout",
     "output_type": "stream",
     "text": [
      "x: 0b1101\n",
      "y: 0b1011\n",
      "z: 0b111\n",
      "Parity: 0b1\n"
     ]
    }
   ],
   "source": [
    "# Example test for the Parity function\n",
    "x, y, z = UINT32(0b1101), UINT32(0b1011), UINT32(0b0111)\n",
    "\n",
    "print(\"x:\", bin(int(x)))\n",
    "print(\"y:\", bin(int(y)))\n",
    "print(\"z:\", bin(int(z)))\n",
    "print(\"Parity:\", bin(int(Parity(x, y, z)))) # Expected output: 0b1 (result of x XOR y XOR z)\n"
   ]
  },
  {
   "cell_type": "code",
   "execution_count": 3,
   "id": "a360c094",
   "metadata": {},
   "outputs": [],
   "source": [
    "def Ch(x, y, z):\n",
    "    \"\"\"\n",
    "    Choose function: (x ∧ y) ⊕ (¬x ∧ z)\n",
    "    \n",
    "    Reference: SHS Standard, Section 4.1.2 (page 10)\n",
    "    This section defines how the Choose function is used in the SHA-256 algorithm.\n",
    "    The Choose function selects bits from y and z based on the bits of x.\n",
    "    Used in: SHA-256 compression function\n",
    "    \n",
    "    For each bit position:\n",
    "    - If x bit is 1, choose the corresponding bit from y\n",
    "    - If x bit is 0, choose the corresponding bit from z\n",
    "    \n",
    "    Args:\n",
    "        x, y, z: 32-bit words\n",
    "    \n",
    "    Returns:\n",
    "        32-bit result where x \"chooses\" between y and z\n",
    "    \n",
    "    Example:\n",
    "        x = 1100 (chooses y for first 2 bits, z for last 2 bits)\n",
    "        y = 1010\n",
    "        z = 0111\n",
    "        --------\n",
    "        Result = 1011 (takes 10 from y, 11 from z)\n",
    "    \"\"\"\n",
    "    x, y, z = UINT32(x), UINT32(y), UINT32(z)\n",
    "    return UINT32((x & y) ^ (~x & z))"
   ]
  },
  {
   "cell_type": "code",
   "execution_count": 4,
   "id": "30066cf8",
   "metadata": {},
   "outputs": [
    {
     "name": "stdout",
     "output_type": "stream",
     "text": [
      "\n",
      "x: 0b1100\n",
      "y: 0b1010\n",
      "z: 0b111\n",
      "Ch: 0b1011\n"
     ]
    }
   ],
   "source": [
    "# Example test for the Ch function\n",
    "x, y, z = UINT32(0b1100), UINT32(0b1010), UINT32(0b0111)\n",
    "\n",
    "print(\"\\nx:\", bin(int(x)))\n",
    "print(\"y:\", bin(int(y)))\n",
    "print(\"z:\", bin(int(z)))\n",
    "print(\"Ch:\", bin(int(Ch(x, y, z)))) # Expected output: 0b1011"
   ]
  },
  {
   "cell_type": "code",
   "execution_count": null,
   "id": "ddc6d7b2",
   "metadata": {},
   "outputs": [],
   "source": [
    "def Maj(x, y, z):\n",
    "    \"\"\"\n",
    "    Majority function: (x ∧ y) ⊕ (x ∧ z) ⊕ (y ∧ z)\n",
    "    \n",
    "    Reference: SHS Standard, Section 4.1.2 (page 10)\n",
    "    This section defines how the Majority function is used in the SHA-256 algorithm.\n",
    "    The Majority function returns the majority bit for each bit position among x, y, and z\n",
    "    Used in: SHA-256 compression function\n",
    "    \n",
    "    For each bit position:\n",
    "    - Returns 1 if at least 2 of the 3 bits are 1\n",
    "    - Returns 0 if at least 2 of the 3 bits are 0\n",
    "    \n",
    "    Args:\n",
    "        x, y, z: 32-bit words\n",
    "    \n",
    "    Returns:\n",
    "        32-bit result representing the majority vote of each bit position\n",
    "    \n",
    "    Example:\n",
    "        x = 1100\n",
    "        y = 1010\n",
    "        z = 1001\n",
    "        --------\n",
    "        Bit 0: 1,1,1 → majority is 1\n",
    "        Bit 1: 1,0,0 → majority is 0\n",
    "        Bit 2: 0,1,0 → majority is 0\n",
    "        Bit 3: 0,0,1 → majority is 0\n",
    "        Result = 1000\n",
    "    \"\"\"\n",
    "    x, y, z = UINT32(x), UINT32(y), UINT32(z)\n",
    "    return UINT32((x & y) ^ (x & z) ^ (y & z))"
   ]
  },
  {
   "cell_type": "code",
   "execution_count": 6,
   "id": "c5b0345c",
   "metadata": {},
   "outputs": [
    {
     "name": "stdout",
     "output_type": "stream",
     "text": [
      "\n",
      "x: 0b1100\n",
      "y: 0b1010\n",
      "z: 0b1001\n",
      "Maj: 0b1000\n"
     ]
    }
   ],
   "source": [
    "x, y, z = UINT32(0b1100), UINT32(0b1010), UINT32(0b1001)\n",
    "\n",
    "print(\"\\nx:\", bin(int(x)))\n",
    "print(\"y:\", bin(int(y)))\n",
    "print(\"z:\", bin(int(z)))\n",
    "print(\"Maj:\", bin(int(Maj(x, y, z)))) # Expected output: 0b1000"
   ]
  },
  {
   "cell_type": "markdown",
   "id": "0061f67b",
   "metadata": {},
   "source": [
    "## Problem 2: Fractional Parts of Cube Roots"
   ]
  },
  {
   "cell_type": "code",
   "execution_count": null,
   "id": "a1e032fc",
   "metadata": {},
   "outputs": [],
   "source": []
  },
  {
   "cell_type": "markdown",
   "id": "60a0b19d",
   "metadata": {},
   "source": [
    "## Problem 3: Padding"
   ]
  },
  {
   "cell_type": "code",
   "execution_count": null,
   "id": "cf33f886",
   "metadata": {},
   "outputs": [],
   "source": []
  },
  {
   "cell_type": "markdown",
   "id": "fb4661ba",
   "metadata": {},
   "source": [
    "## Problem 4: Hashes"
   ]
  },
  {
   "cell_type": "code",
   "execution_count": null,
   "id": "7f6564e3",
   "metadata": {},
   "outputs": [],
   "source": []
  },
  {
   "cell_type": "markdown",
   "id": "6c806498",
   "metadata": {},
   "source": [
    "## Problem 5: Passwords"
   ]
  },
  {
   "cell_type": "code",
   "execution_count": null,
   "id": "06ba4ee0",
   "metadata": {},
   "outputs": [],
   "source": []
  }
 ],
 "metadata": {
  "kernelspec": {
   "display_name": "Python 3",
   "language": "python",
   "name": "python3"
  },
  "language_info": {
   "codemirror_mode": {
    "name": "ipython",
    "version": 3
   },
   "file_extension": ".py",
   "mimetype": "text/x-python",
   "name": "python",
   "nbconvert_exporter": "python",
   "pygments_lexer": "ipython3",
   "version": "3.12.1"
  }
 },
 "nbformat": 4,
 "nbformat_minor": 5
}
